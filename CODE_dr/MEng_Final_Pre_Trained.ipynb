{
 "cells": [
  {
   "cell_type": "markdown",
   "metadata": {},
   "source": [
    "## Libraries"
   ]
  },
  {
   "cell_type": "code",
   "execution_count": 3,
   "metadata": {},
   "outputs": [
    {
     "name": "stdout",
     "output_type": "stream",
     "text": [
      "importing Jupyter notebook from MEng_Final_Utils.ipynb\n"
     ]
    },
    {
     "name": "stderr",
     "output_type": "stream",
     "text": [
      "Using TensorFlow backend.\n"
     ]
    }
   ],
   "source": [
    "import numpy as np\n",
    "import import_ipynb\n",
    "import time\n",
    "import os\n",
    "import MEng_Final_Utils as utils"
   ]
  },
  {
   "cell_type": "code",
   "execution_count": 4,
   "metadata": {},
   "outputs": [],
   "source": [
    "from keras import applications\n",
    "from keras.preprocessing import image\n",
    "from keras import optimizers\n",
    "from keras.callbacks import EarlyStopping\n",
    "from keras.layers import Flatten, Dense, Dropout, GlobalAveragePooling2D\n",
    "from keras import Model\n",
    "import pandas as pd\n",
    "import itertools\n",
    "from keras_preprocessing.image import ImageDataGenerator\n",
    "from keras.models import load_model\n",
    "from keras.callbacks import EarlyStopping"
   ]
  },
  {
   "cell_type": "markdown",
   "metadata": {},
   "source": [
    "## Constants"
   ]
  },
  {
   "cell_type": "code",
   "execution_count": 5,
   "metadata": {},
   "outputs": [],
   "source": [
    "np.random.seed(0)"
   ]
  },
  {
   "cell_type": "code",
   "execution_count": 6,
   "metadata": {},
   "outputs": [],
   "source": [
    "base_path = \"/export/home/grad/islab_archives/STUDENT_THESIS_dr/MILAN_SHARMA_MENG_dr/DATA_dr\""
   ]
  },
  {
   "cell_type": "code",
   "execution_count": 7,
   "metadata": {},
   "outputs": [],
   "source": [
    "images_path = os.path.join(base_path,'Images_Balanced')\n",
    "labels_path = os.path.join(base_path,'Labels_Balanced.xlsx')"
   ]
  },
  {
   "cell_type": "code",
   "execution_count": 8,
   "metadata": {},
   "outputs": [],
   "source": [
    "labels_names = ['Window', 'Board','Table','External_Door','Stair Door','Office', 'Pillar', 'Display Screen',\n",
    "                   'ATM','Chairs','Bins','Internal Door','Elevator']"
   ]
  },
  {
   "cell_type": "code",
   "execution_count": 10,
   "metadata": {},
   "outputs": [],
   "source": [
    "num_labels = len(labels_names)\n",
    "resize_factor = 0.1"
   ]
  },
  {
   "cell_type": "markdown",
   "metadata": {},
   "source": [
    "## Read Images and Labels"
   ]
  },
  {
   "cell_type": "code",
   "execution_count": 11,
   "metadata": {},
   "outputs": [],
   "source": [
    "images = utils.get_images(utils.get_files(images_path))\n",
    "labels = utils.read_labels(labels_path,labels_names)[:len(images),:]\n",
    "labels = labels.astype(int)"
   ]
  },
  {
   "cell_type": "code",
   "execution_count": 12,
   "metadata": {},
   "outputs": [],
   "source": [
    "images_filenames = []\n",
    "for i in range(0,len(images)):\n",
    "    filename = str(i+1)+'.jpg'\n",
    "    images_filenames.append(filename)\n",
    "    \n",
    "images_filenames = np.asarray(images_filenames)"
   ]
  },
  {
   "cell_type": "markdown",
   "metadata": {},
   "source": [
    "## Train-Test Split and Image Data Generator"
   ]
  },
  {
   "cell_type": "code",
   "execution_count": 13,
   "metadata": {},
   "outputs": [],
   "source": [
    "images_df  = pd.DataFrame(data=labels,columns=labels_names)\n",
    "images_df.insert(0,'Filenames', images_filenames)"
   ]
  },
  {
   "cell_type": "code",
   "execution_count": 14,
   "metadata": {},
   "outputs": [],
   "source": [
    "from sklearn.model_selection import train_test_split\n",
    "train_df, test_df = train_test_split(images_df, random_state=0, test_size=0.2)"
   ]
  },
  {
   "cell_type": "code",
   "execution_count": 15,
   "metadata": {},
   "outputs": [],
   "source": [
    "train_datagen = ImageDataGenerator(\n",
    "                rotation_range=0,\n",
    "                width_shift_range=10,\n",
    "                height_shift_range=10,\n",
    "                horizontal_flip=True,\n",
    "                fill_mode='nearest',\n",
    "                rescale=1./255,\n",
    "                data_format='channels_last',\n",
    "                validation_split=0.10)\n",
    "\n",
    "test_datagen = ImageDataGenerator(rescale=1./255)"
   ]
  },
  {
   "cell_type": "code",
   "execution_count": 17,
   "metadata": {},
   "outputs": [
    {
     "name": "stdout",
     "output_type": "stream",
     "text": [
      "Found 341 images.\n",
      "Found 37 images.\n",
      "Found 95 images.\n"
     ]
    }
   ],
   "source": [
    "train_aug = train_datagen.flow_from_dataframe(train_df,\n",
    "                        directory=images_path,\n",
    "                        x_col='Filenames',\n",
    "                        y_col=labels_names,\n",
    "                        target_size=(128,128),\n",
    "                        color_mode='rgb',\n",
    "                        class_mode='other',\n",
    "                        batch_size=30,\n",
    "                        shuffle=True,\n",
    "                        seed=0,\n",
    "                        drop_duplicates=True,\n",
    "                        subset='training')\n",
    "\n",
    "val_aug = train_datagen.flow_from_dataframe(train_df,\n",
    "                        directory=images_path,\n",
    "                        x_col='Filenames',\n",
    "                        y_col=labels_names,\n",
    "                        target_size=(128,128),\n",
    "                        color_mode='rgb',\n",
    "                        class_mode='other',\n",
    "                        batch_size=30,\n",
    "                        shuffle=True,\n",
    "                        seed=0,\n",
    "                        drop_duplicates=True,\n",
    "                        subset='validation')\n",
    "\n",
    "\n",
    "test_aug = test_datagen.flow_from_dataframe(test_df,\n",
    "                        directory=images_path,\n",
    "                        x_col='Filenames',\n",
    "                        y_col=labels_names,\n",
    "                        target_size=(128,128),\n",
    "                        color_mode='rgb',\n",
    "                        class_mode='other',\n",
    "                        batch_size=1000,\n",
    "                        shuffle=False,\n",
    "                        seed=0)"
   ]
  },
  {
   "cell_type": "code",
   "execution_count": 18,
   "metadata": {},
   "outputs": [],
   "source": [
    "val_augmented_data = []\n",
    "for image,label in zip(val_aug,range(1)):\n",
    "    val_augmented_data.append(image)"
   ]
  },
  {
   "cell_type": "code",
   "execution_count": 19,
   "metadata": {},
   "outputs": [],
   "source": [
    "test_augmented_data = []\n",
    "for image,label in zip(test_aug,range(1)):\n",
    "    test_augmented_data.append(image)"
   ]
  },
  {
   "cell_type": "code",
   "execution_count": 20,
   "metadata": {},
   "outputs": [],
   "source": [
    "validation_images, val_labels = utils.get_augmented_images_and_labels(val_augmented_data)\n",
    "testing_images, test_labels = utils.get_augmented_images_and_labels(test_augmented_data)"
   ]
  },
  {
   "cell_type": "code",
   "execution_count": 21,
   "metadata": {},
   "outputs": [],
   "source": [
    "validation_ims = (np.asarray(validation_images))\n",
    "testing_ims = (np.asarray(testing_images))"
   ]
  },
  {
   "cell_type": "code",
   "execution_count": 22,
   "metadata": {},
   "outputs": [],
   "source": [
    "w = testing_ims[0].shape[0]\n",
    "h = testing_ims[0].shape[1]\n",
    "d = testing_ims[0].shape[2]"
   ]
  },
  {
   "cell_type": "markdown",
   "metadata": {},
   "source": [
    "## MobileNet Fine-Tuning"
   ]
  },
  {
   "cell_type": "code",
   "execution_count": 23,
   "metadata": {},
   "outputs": [],
   "source": [
    "early_ae_hog = EarlyStopping(monitor='val_loss', patience=3, restore_best_weights=True, verbose=1)"
   ]
  },
  {
   "cell_type": "code",
   "execution_count": 24,
   "metadata": {},
   "outputs": [],
   "source": [
    "base_model_mn = applications.mobilenet.MobileNet(weights='imagenet', include_top=False,\n",
    "                                                 pooling='avg', input_shape=((128,128,3)))"
   ]
  },
  {
   "cell_type": "code",
   "execution_count": 25,
   "metadata": {},
   "outputs": [
    {
     "name": "stdout",
     "output_type": "stream",
     "text": [
      "_________________________________________________________________\n",
      "Layer (type)                 Output Shape              Param #   \n",
      "=================================================================\n",
      "input_1 (InputLayer)         (None, 128, 128, 3)       0         \n",
      "_________________________________________________________________\n",
      "conv1_pad (ZeroPadding2D)    (None, 129, 129, 3)       0         \n",
      "_________________________________________________________________\n",
      "conv1 (Conv2D)               (None, 64, 64, 32)        864       \n",
      "_________________________________________________________________\n",
      "conv1_bn (BatchNormalization (None, 64, 64, 32)        128       \n",
      "_________________________________________________________________\n",
      "conv1_relu (ReLU)            (None, 64, 64, 32)        0         \n",
      "_________________________________________________________________\n",
      "conv_dw_1 (DepthwiseConv2D)  (None, 64, 64, 32)        288       \n",
      "_________________________________________________________________\n",
      "conv_dw_1_bn (BatchNormaliza (None, 64, 64, 32)        128       \n",
      "_________________________________________________________________\n",
      "conv_dw_1_relu (ReLU)        (None, 64, 64, 32)        0         \n",
      "_________________________________________________________________\n",
      "conv_pw_1 (Conv2D)           (None, 64, 64, 64)        2048      \n",
      "_________________________________________________________________\n",
      "conv_pw_1_bn (BatchNormaliza (None, 64, 64, 64)        256       \n",
      "_________________________________________________________________\n",
      "conv_pw_1_relu (ReLU)        (None, 64, 64, 64)        0         \n",
      "_________________________________________________________________\n",
      "conv_pad_2 (ZeroPadding2D)   (None, 65, 65, 64)        0         \n",
      "_________________________________________________________________\n",
      "conv_dw_2 (DepthwiseConv2D)  (None, 32, 32, 64)        576       \n",
      "_________________________________________________________________\n",
      "conv_dw_2_bn (BatchNormaliza (None, 32, 32, 64)        256       \n",
      "_________________________________________________________________\n",
      "conv_dw_2_relu (ReLU)        (None, 32, 32, 64)        0         \n",
      "_________________________________________________________________\n",
      "conv_pw_2 (Conv2D)           (None, 32, 32, 128)       8192      \n",
      "_________________________________________________________________\n",
      "conv_pw_2_bn (BatchNormaliza (None, 32, 32, 128)       512       \n",
      "_________________________________________________________________\n",
      "conv_pw_2_relu (ReLU)        (None, 32, 32, 128)       0         \n",
      "_________________________________________________________________\n",
      "conv_dw_3 (DepthwiseConv2D)  (None, 32, 32, 128)       1152      \n",
      "_________________________________________________________________\n",
      "conv_dw_3_bn (BatchNormaliza (None, 32, 32, 128)       512       \n",
      "_________________________________________________________________\n",
      "conv_dw_3_relu (ReLU)        (None, 32, 32, 128)       0         \n",
      "_________________________________________________________________\n",
      "conv_pw_3 (Conv2D)           (None, 32, 32, 128)       16384     \n",
      "_________________________________________________________________\n",
      "conv_pw_3_bn (BatchNormaliza (None, 32, 32, 128)       512       \n",
      "_________________________________________________________________\n",
      "conv_pw_3_relu (ReLU)        (None, 32, 32, 128)       0         \n",
      "_________________________________________________________________\n",
      "conv_pad_4 (ZeroPadding2D)   (None, 33, 33, 128)       0         \n",
      "_________________________________________________________________\n",
      "conv_dw_4 (DepthwiseConv2D)  (None, 16, 16, 128)       1152      \n",
      "_________________________________________________________________\n",
      "conv_dw_4_bn (BatchNormaliza (None, 16, 16, 128)       512       \n",
      "_________________________________________________________________\n",
      "conv_dw_4_relu (ReLU)        (None, 16, 16, 128)       0         \n",
      "_________________________________________________________________\n",
      "conv_pw_4 (Conv2D)           (None, 16, 16, 256)       32768     \n",
      "_________________________________________________________________\n",
      "conv_pw_4_bn (BatchNormaliza (None, 16, 16, 256)       1024      \n",
      "_________________________________________________________________\n",
      "conv_pw_4_relu (ReLU)        (None, 16, 16, 256)       0         \n",
      "_________________________________________________________________\n",
      "conv_dw_5 (DepthwiseConv2D)  (None, 16, 16, 256)       2304      \n",
      "_________________________________________________________________\n",
      "conv_dw_5_bn (BatchNormaliza (None, 16, 16, 256)       1024      \n",
      "_________________________________________________________________\n",
      "conv_dw_5_relu (ReLU)        (None, 16, 16, 256)       0         \n",
      "_________________________________________________________________\n",
      "conv_pw_5 (Conv2D)           (None, 16, 16, 256)       65536     \n",
      "_________________________________________________________________\n",
      "conv_pw_5_bn (BatchNormaliza (None, 16, 16, 256)       1024      \n",
      "_________________________________________________________________\n",
      "conv_pw_5_relu (ReLU)        (None, 16, 16, 256)       0         \n",
      "_________________________________________________________________\n",
      "conv_pad_6 (ZeroPadding2D)   (None, 17, 17, 256)       0         \n",
      "_________________________________________________________________\n",
      "conv_dw_6 (DepthwiseConv2D)  (None, 8, 8, 256)         2304      \n",
      "_________________________________________________________________\n",
      "conv_dw_6_bn (BatchNormaliza (None, 8, 8, 256)         1024      \n",
      "_________________________________________________________________\n",
      "conv_dw_6_relu (ReLU)        (None, 8, 8, 256)         0         \n",
      "_________________________________________________________________\n",
      "conv_pw_6 (Conv2D)           (None, 8, 8, 512)         131072    \n",
      "_________________________________________________________________\n",
      "conv_pw_6_bn (BatchNormaliza (None, 8, 8, 512)         2048      \n",
      "_________________________________________________________________\n",
      "conv_pw_6_relu (ReLU)        (None, 8, 8, 512)         0         \n",
      "_________________________________________________________________\n",
      "conv_dw_7 (DepthwiseConv2D)  (None, 8, 8, 512)         4608      \n",
      "_________________________________________________________________\n",
      "conv_dw_7_bn (BatchNormaliza (None, 8, 8, 512)         2048      \n",
      "_________________________________________________________________\n",
      "conv_dw_7_relu (ReLU)        (None, 8, 8, 512)         0         \n",
      "_________________________________________________________________\n",
      "conv_pw_7 (Conv2D)           (None, 8, 8, 512)         262144    \n",
      "_________________________________________________________________\n",
      "conv_pw_7_bn (BatchNormaliza (None, 8, 8, 512)         2048      \n",
      "_________________________________________________________________\n",
      "conv_pw_7_relu (ReLU)        (None, 8, 8, 512)         0         \n",
      "_________________________________________________________________\n",
      "conv_dw_8 (DepthwiseConv2D)  (None, 8, 8, 512)         4608      \n",
      "_________________________________________________________________\n",
      "conv_dw_8_bn (BatchNormaliza (None, 8, 8, 512)         2048      \n",
      "_________________________________________________________________\n",
      "conv_dw_8_relu (ReLU)        (None, 8, 8, 512)         0         \n",
      "_________________________________________________________________\n",
      "conv_pw_8 (Conv2D)           (None, 8, 8, 512)         262144    \n",
      "_________________________________________________________________\n",
      "conv_pw_8_bn (BatchNormaliza (None, 8, 8, 512)         2048      \n",
      "_________________________________________________________________\n",
      "conv_pw_8_relu (ReLU)        (None, 8, 8, 512)         0         \n",
      "_________________________________________________________________\n",
      "conv_dw_9 (DepthwiseConv2D)  (None, 8, 8, 512)         4608      \n",
      "_________________________________________________________________\n",
      "conv_dw_9_bn (BatchNormaliza (None, 8, 8, 512)         2048      \n",
      "_________________________________________________________________\n",
      "conv_dw_9_relu (ReLU)        (None, 8, 8, 512)         0         \n",
      "_________________________________________________________________\n",
      "conv_pw_9 (Conv2D)           (None, 8, 8, 512)         262144    \n",
      "_________________________________________________________________\n",
      "conv_pw_9_bn (BatchNormaliza (None, 8, 8, 512)         2048      \n",
      "_________________________________________________________________\n",
      "conv_pw_9_relu (ReLU)        (None, 8, 8, 512)         0         \n",
      "_________________________________________________________________\n",
      "conv_dw_10 (DepthwiseConv2D) (None, 8, 8, 512)         4608      \n",
      "_________________________________________________________________\n",
      "conv_dw_10_bn (BatchNormaliz (None, 8, 8, 512)         2048      \n",
      "_________________________________________________________________\n",
      "conv_dw_10_relu (ReLU)       (None, 8, 8, 512)         0         \n",
      "_________________________________________________________________\n",
      "conv_pw_10 (Conv2D)          (None, 8, 8, 512)         262144    \n",
      "_________________________________________________________________\n",
      "conv_pw_10_bn (BatchNormaliz (None, 8, 8, 512)         2048      \n",
      "_________________________________________________________________\n",
      "conv_pw_10_relu (ReLU)       (None, 8, 8, 512)         0         \n",
      "_________________________________________________________________\n",
      "conv_dw_11 (DepthwiseConv2D) (None, 8, 8, 512)         4608      \n",
      "_________________________________________________________________\n",
      "conv_dw_11_bn (BatchNormaliz (None, 8, 8, 512)         2048      \n",
      "_________________________________________________________________\n",
      "conv_dw_11_relu (ReLU)       (None, 8, 8, 512)         0         \n",
      "_________________________________________________________________\n",
      "conv_pw_11 (Conv2D)          (None, 8, 8, 512)         262144    \n",
      "_________________________________________________________________\n",
      "conv_pw_11_bn (BatchNormaliz (None, 8, 8, 512)         2048      \n",
      "_________________________________________________________________\n",
      "conv_pw_11_relu (ReLU)       (None, 8, 8, 512)         0         \n",
      "_________________________________________________________________\n",
      "conv_pad_12 (ZeroPadding2D)  (None, 9, 9, 512)         0         \n",
      "_________________________________________________________________\n",
      "conv_dw_12 (DepthwiseConv2D) (None, 4, 4, 512)         4608      \n",
      "_________________________________________________________________\n",
      "conv_dw_12_bn (BatchNormaliz (None, 4, 4, 512)         2048      \n",
      "_________________________________________________________________\n",
      "conv_dw_12_relu (ReLU)       (None, 4, 4, 512)         0         \n",
      "_________________________________________________________________\n",
      "conv_pw_12 (Conv2D)          (None, 4, 4, 1024)        524288    \n",
      "_________________________________________________________________\n",
      "conv_pw_12_bn (BatchNormaliz (None, 4, 4, 1024)        4096      \n",
      "_________________________________________________________________\n",
      "conv_pw_12_relu (ReLU)       (None, 4, 4, 1024)        0         \n",
      "_________________________________________________________________\n",
      "conv_dw_13 (DepthwiseConv2D) (None, 4, 4, 1024)        9216      \n",
      "_________________________________________________________________\n",
      "conv_dw_13_bn (BatchNormaliz (None, 4, 4, 1024)        4096      \n",
      "_________________________________________________________________\n",
      "conv_dw_13_relu (ReLU)       (None, 4, 4, 1024)        0         \n",
      "_________________________________________________________________\n",
      "conv_pw_13 (Conv2D)          (None, 4, 4, 1024)        1048576   \n",
      "_________________________________________________________________\n",
      "conv_pw_13_bn (BatchNormaliz (None, 4, 4, 1024)        4096      \n",
      "_________________________________________________________________\n",
      "conv_pw_13_relu (ReLU)       (None, 4, 4, 1024)        0         \n",
      "_________________________________________________________________\n",
      "global_average_pooling2d_1 ( (None, 1024)              0         \n",
      "=================================================================\n",
      "Total params: 3,228,864\n",
      "Trainable params: 3,206,976\n",
      "Non-trainable params: 21,888\n",
      "_________________________________________________________________\n"
     ]
    }
   ],
   "source": [
    "base_model_mn.summary()"
   ]
  },
  {
   "cell_type": "code",
   "execution_count": 26,
   "metadata": {},
   "outputs": [
    {
     "name": "stderr",
     "output_type": "stream",
     "text": [
      "/export/home/users/msharm05/miniconda3/lib/python3.6/site-packages/ipykernel_launcher.py:6: UserWarning: Update your `Model` call to the Keras 2 API: `Model(inputs=Tensor(\"in..., outputs=Tensor(\"de...)`\n",
      "  \n"
     ]
    }
   ],
   "source": [
    "x = base_model_mn.output\n",
    "x = Dropout(0.2)(x)\n",
    "x = Dense(500, activation='relu')(x)\n",
    "x = Dropout(0.3)(x)\n",
    "output_layer = Dense(num_labels, activation='sigmoid')(x)\n",
    "model_mn = Model(input=base_model_mn.input, output=output_layer)\n",
    "\n",
    "# for layer in base_model_mn.layers:\n",
    "#     layer.trainable = False"
   ]
  },
  {
   "cell_type": "code",
   "execution_count": 27,
   "metadata": {},
   "outputs": [
    {
     "name": "stdout",
     "output_type": "stream",
     "text": [
      "_________________________________________________________________\n",
      "Layer (type)                 Output Shape              Param #   \n",
      "=================================================================\n",
      "input_1 (InputLayer)         (None, 128, 128, 3)       0         \n",
      "_________________________________________________________________\n",
      "conv1_pad (ZeroPadding2D)    (None, 129, 129, 3)       0         \n",
      "_________________________________________________________________\n",
      "conv1 (Conv2D)               (None, 64, 64, 32)        864       \n",
      "_________________________________________________________________\n",
      "conv1_bn (BatchNormalization (None, 64, 64, 32)        128       \n",
      "_________________________________________________________________\n",
      "conv1_relu (ReLU)            (None, 64, 64, 32)        0         \n",
      "_________________________________________________________________\n",
      "conv_dw_1 (DepthwiseConv2D)  (None, 64, 64, 32)        288       \n",
      "_________________________________________________________________\n",
      "conv_dw_1_bn (BatchNormaliza (None, 64, 64, 32)        128       \n",
      "_________________________________________________________________\n",
      "conv_dw_1_relu (ReLU)        (None, 64, 64, 32)        0         \n",
      "_________________________________________________________________\n",
      "conv_pw_1 (Conv2D)           (None, 64, 64, 64)        2048      \n",
      "_________________________________________________________________\n",
      "conv_pw_1_bn (BatchNormaliza (None, 64, 64, 64)        256       \n",
      "_________________________________________________________________\n",
      "conv_pw_1_relu (ReLU)        (None, 64, 64, 64)        0         \n",
      "_________________________________________________________________\n",
      "conv_pad_2 (ZeroPadding2D)   (None, 65, 65, 64)        0         \n",
      "_________________________________________________________________\n",
      "conv_dw_2 (DepthwiseConv2D)  (None, 32, 32, 64)        576       \n",
      "_________________________________________________________________\n",
      "conv_dw_2_bn (BatchNormaliza (None, 32, 32, 64)        256       \n",
      "_________________________________________________________________\n",
      "conv_dw_2_relu (ReLU)        (None, 32, 32, 64)        0         \n",
      "_________________________________________________________________\n",
      "conv_pw_2 (Conv2D)           (None, 32, 32, 128)       8192      \n",
      "_________________________________________________________________\n",
      "conv_pw_2_bn (BatchNormaliza (None, 32, 32, 128)       512       \n",
      "_________________________________________________________________\n",
      "conv_pw_2_relu (ReLU)        (None, 32, 32, 128)       0         \n",
      "_________________________________________________________________\n",
      "conv_dw_3 (DepthwiseConv2D)  (None, 32, 32, 128)       1152      \n",
      "_________________________________________________________________\n",
      "conv_dw_3_bn (BatchNormaliza (None, 32, 32, 128)       512       \n",
      "_________________________________________________________________\n",
      "conv_dw_3_relu (ReLU)        (None, 32, 32, 128)       0         \n",
      "_________________________________________________________________\n",
      "conv_pw_3 (Conv2D)           (None, 32, 32, 128)       16384     \n",
      "_________________________________________________________________\n",
      "conv_pw_3_bn (BatchNormaliza (None, 32, 32, 128)       512       \n",
      "_________________________________________________________________\n",
      "conv_pw_3_relu (ReLU)        (None, 32, 32, 128)       0         \n",
      "_________________________________________________________________\n",
      "conv_pad_4 (ZeroPadding2D)   (None, 33, 33, 128)       0         \n",
      "_________________________________________________________________\n",
      "conv_dw_4 (DepthwiseConv2D)  (None, 16, 16, 128)       1152      \n",
      "_________________________________________________________________\n",
      "conv_dw_4_bn (BatchNormaliza (None, 16, 16, 128)       512       \n",
      "_________________________________________________________________\n",
      "conv_dw_4_relu (ReLU)        (None, 16, 16, 128)       0         \n",
      "_________________________________________________________________\n",
      "conv_pw_4 (Conv2D)           (None, 16, 16, 256)       32768     \n",
      "_________________________________________________________________\n",
      "conv_pw_4_bn (BatchNormaliza (None, 16, 16, 256)       1024      \n",
      "_________________________________________________________________\n",
      "conv_pw_4_relu (ReLU)        (None, 16, 16, 256)       0         \n",
      "_________________________________________________________________\n",
      "conv_dw_5 (DepthwiseConv2D)  (None, 16, 16, 256)       2304      \n",
      "_________________________________________________________________\n",
      "conv_dw_5_bn (BatchNormaliza (None, 16, 16, 256)       1024      \n",
      "_________________________________________________________________\n",
      "conv_dw_5_relu (ReLU)        (None, 16, 16, 256)       0         \n",
      "_________________________________________________________________\n",
      "conv_pw_5 (Conv2D)           (None, 16, 16, 256)       65536     \n",
      "_________________________________________________________________\n",
      "conv_pw_5_bn (BatchNormaliza (None, 16, 16, 256)       1024      \n",
      "_________________________________________________________________\n",
      "conv_pw_5_relu (ReLU)        (None, 16, 16, 256)       0         \n",
      "_________________________________________________________________\n",
      "conv_pad_6 (ZeroPadding2D)   (None, 17, 17, 256)       0         \n",
      "_________________________________________________________________\n",
      "conv_dw_6 (DepthwiseConv2D)  (None, 8, 8, 256)         2304      \n",
      "_________________________________________________________________\n",
      "conv_dw_6_bn (BatchNormaliza (None, 8, 8, 256)         1024      \n",
      "_________________________________________________________________\n",
      "conv_dw_6_relu (ReLU)        (None, 8, 8, 256)         0         \n",
      "_________________________________________________________________\n",
      "conv_pw_6 (Conv2D)           (None, 8, 8, 512)         131072    \n",
      "_________________________________________________________________\n",
      "conv_pw_6_bn (BatchNormaliza (None, 8, 8, 512)         2048      \n",
      "_________________________________________________________________\n",
      "conv_pw_6_relu (ReLU)        (None, 8, 8, 512)         0         \n",
      "_________________________________________________________________\n",
      "conv_dw_7 (DepthwiseConv2D)  (None, 8, 8, 512)         4608      \n",
      "_________________________________________________________________\n",
      "conv_dw_7_bn (BatchNormaliza (None, 8, 8, 512)         2048      \n",
      "_________________________________________________________________\n",
      "conv_dw_7_relu (ReLU)        (None, 8, 8, 512)         0         \n",
      "_________________________________________________________________\n",
      "conv_pw_7 (Conv2D)           (None, 8, 8, 512)         262144    \n",
      "_________________________________________________________________\n",
      "conv_pw_7_bn (BatchNormaliza (None, 8, 8, 512)         2048      \n",
      "_________________________________________________________________\n",
      "conv_pw_7_relu (ReLU)        (None, 8, 8, 512)         0         \n",
      "_________________________________________________________________\n",
      "conv_dw_8 (DepthwiseConv2D)  (None, 8, 8, 512)         4608      \n",
      "_________________________________________________________________\n",
      "conv_dw_8_bn (BatchNormaliza (None, 8, 8, 512)         2048      \n",
      "_________________________________________________________________\n",
      "conv_dw_8_relu (ReLU)        (None, 8, 8, 512)         0         \n",
      "_________________________________________________________________\n",
      "conv_pw_8 (Conv2D)           (None, 8, 8, 512)         262144    \n",
      "_________________________________________________________________\n",
      "conv_pw_8_bn (BatchNormaliza (None, 8, 8, 512)         2048      \n",
      "_________________________________________________________________\n",
      "conv_pw_8_relu (ReLU)        (None, 8, 8, 512)         0         \n",
      "_________________________________________________________________\n",
      "conv_dw_9 (DepthwiseConv2D)  (None, 8, 8, 512)         4608      \n",
      "_________________________________________________________________\n",
      "conv_dw_9_bn (BatchNormaliza (None, 8, 8, 512)         2048      \n",
      "_________________________________________________________________\n",
      "conv_dw_9_relu (ReLU)        (None, 8, 8, 512)         0         \n",
      "_________________________________________________________________\n",
      "conv_pw_9 (Conv2D)           (None, 8, 8, 512)         262144    \n",
      "_________________________________________________________________\n",
      "conv_pw_9_bn (BatchNormaliza (None, 8, 8, 512)         2048      \n",
      "_________________________________________________________________\n",
      "conv_pw_9_relu (ReLU)        (None, 8, 8, 512)         0         \n",
      "_________________________________________________________________\n",
      "conv_dw_10 (DepthwiseConv2D) (None, 8, 8, 512)         4608      \n",
      "_________________________________________________________________\n",
      "conv_dw_10_bn (BatchNormaliz (None, 8, 8, 512)         2048      \n",
      "_________________________________________________________________\n",
      "conv_dw_10_relu (ReLU)       (None, 8, 8, 512)         0         \n",
      "_________________________________________________________________\n",
      "conv_pw_10 (Conv2D)          (None, 8, 8, 512)         262144    \n",
      "_________________________________________________________________\n",
      "conv_pw_10_bn (BatchNormaliz (None, 8, 8, 512)         2048      \n",
      "_________________________________________________________________\n",
      "conv_pw_10_relu (ReLU)       (None, 8, 8, 512)         0         \n",
      "_________________________________________________________________\n",
      "conv_dw_11 (DepthwiseConv2D) (None, 8, 8, 512)         4608      \n",
      "_________________________________________________________________\n",
      "conv_dw_11_bn (BatchNormaliz (None, 8, 8, 512)         2048      \n",
      "_________________________________________________________________\n",
      "conv_dw_11_relu (ReLU)       (None, 8, 8, 512)         0         \n",
      "_________________________________________________________________\n",
      "conv_pw_11 (Conv2D)          (None, 8, 8, 512)         262144    \n",
      "_________________________________________________________________\n",
      "conv_pw_11_bn (BatchNormaliz (None, 8, 8, 512)         2048      \n",
      "_________________________________________________________________\n",
      "conv_pw_11_relu (ReLU)       (None, 8, 8, 512)         0         \n",
      "_________________________________________________________________\n",
      "conv_pad_12 (ZeroPadding2D)  (None, 9, 9, 512)         0         \n",
      "_________________________________________________________________\n",
      "conv_dw_12 (DepthwiseConv2D) (None, 4, 4, 512)         4608      \n",
      "_________________________________________________________________\n",
      "conv_dw_12_bn (BatchNormaliz (None, 4, 4, 512)         2048      \n",
      "_________________________________________________________________\n",
      "conv_dw_12_relu (ReLU)       (None, 4, 4, 512)         0         \n",
      "_________________________________________________________________\n",
      "conv_pw_12 (Conv2D)          (None, 4, 4, 1024)        524288    \n",
      "_________________________________________________________________\n",
      "conv_pw_12_bn (BatchNormaliz (None, 4, 4, 1024)        4096      \n",
      "_________________________________________________________________\n",
      "conv_pw_12_relu (ReLU)       (None, 4, 4, 1024)        0         \n",
      "_________________________________________________________________\n",
      "conv_dw_13 (DepthwiseConv2D) (None, 4, 4, 1024)        9216      \n",
      "_________________________________________________________________\n",
      "conv_dw_13_bn (BatchNormaliz (None, 4, 4, 1024)        4096      \n",
      "_________________________________________________________________\n",
      "conv_dw_13_relu (ReLU)       (None, 4, 4, 1024)        0         \n",
      "_________________________________________________________________\n",
      "conv_pw_13 (Conv2D)          (None, 4, 4, 1024)        1048576   \n",
      "_________________________________________________________________\n",
      "conv_pw_13_bn (BatchNormaliz (None, 4, 4, 1024)        4096      \n",
      "_________________________________________________________________\n",
      "conv_pw_13_relu (ReLU)       (None, 4, 4, 1024)        0         \n",
      "_________________________________________________________________\n",
      "global_average_pooling2d_1 ( (None, 1024)              0         \n",
      "_________________________________________________________________\n",
      "dropout_1 (Dropout)          (None, 1024)              0         \n",
      "_________________________________________________________________\n",
      "dense_1 (Dense)              (None, 500)               512500    \n",
      "_________________________________________________________________\n",
      "dropout_2 (Dropout)          (None, 500)               0         \n",
      "_________________________________________________________________\n",
      "dense_2 (Dense)              (None, 13)                6513      \n",
      "=================================================================\n",
      "Total params: 3,747,877\n",
      "Trainable params: 3,725,989\n",
      "Non-trainable params: 21,888\n",
      "_________________________________________________________________\n"
     ]
    }
   ],
   "source": [
    "model_mn.summary()"
   ]
  },
  {
   "cell_type": "code",
   "execution_count": 32,
   "metadata": {},
   "outputs": [
    {
     "name": "stdout",
     "output_type": "stream",
     "text": [
      "Epoch 1/60\n",
      "11/11 [==============================] - 99s 9s/step - loss: 1.0293 - acc: 0.4543 - binary_crossentropy: 1.0293 - val_loss: 0.8625 - val_acc: 0.4655 - val_binary_crossentropy: 0.8625\n",
      "Epoch 2/60\n",
      "11/11 [==============================] - 93s 8s/step - loss: 0.9081 - acc: 0.5000 - binary_crossentropy: 0.9081 - val_loss: 0.7643 - val_acc: 0.5312 - val_binary_crossentropy: 0.7643\n",
      "Epoch 3/60\n",
      "11/11 [==============================] - 92s 8s/step - loss: 0.8130 - acc: 0.5537 - binary_crossentropy: 0.8130 - val_loss: 0.6845 - val_acc: 0.6068 - val_binary_crossentropy: 0.6845\n",
      "Epoch 4/60\n",
      "11/11 [==============================] - 92s 8s/step - loss: 0.7316 - acc: 0.5934 - binary_crossentropy: 0.7316 - val_loss: 0.6195 - val_acc: 0.6550 - val_binary_crossentropy: 0.6195\n",
      "Epoch 5/60\n",
      "11/11 [==============================] - 93s 8s/step - loss: 0.6663 - acc: 0.6460 - binary_crossentropy: 0.6663 - val_loss: 0.5676 - val_acc: 0.7043 - val_binary_crossentropy: 0.5676\n",
      "Epoch 6/60\n",
      "11/11 [==============================] - 92s 8s/step - loss: 0.6213 - acc: 0.6730 - binary_crossentropy: 0.6213 - val_loss: 0.5239 - val_acc: 0.7360 - val_binary_crossentropy: 0.5239\n",
      "Epoch 7/60\n",
      "11/11 [==============================] - 92s 8s/step - loss: 0.5739 - acc: 0.7135 - binary_crossentropy: 0.5739 - val_loss: 0.4886 - val_acc: 0.7820 - val_binary_crossentropy: 0.4886\n",
      "Epoch 8/60\n",
      "11/11 [==============================] - 92s 8s/step - loss: 0.5164 - acc: 0.7391 - binary_crossentropy: 0.5164 - val_loss: 0.4600 - val_acc: 0.8007 - val_binary_crossentropy: 0.4600\n",
      "Epoch 9/60\n",
      "11/11 [==============================] - 92s 8s/step - loss: 0.4937 - acc: 0.7647 - binary_crossentropy: 0.4937 - val_loss: 0.4362 - val_acc: 0.8258 - val_binary_crossentropy: 0.4362\n",
      "Epoch 10/60\n",
      "11/11 [==============================] - 92s 8s/step - loss: 0.4783 - acc: 0.7785 - binary_crossentropy: 0.4783 - val_loss: 0.4161 - val_acc: 0.8313 - val_binary_crossentropy: 0.4161\n",
      "Epoch 11/60\n",
      "11/11 [==============================] - 92s 8s/step - loss: 0.4523 - acc: 0.7917 - binary_crossentropy: 0.4523 - val_loss: 0.3991 - val_acc: 0.8401 - val_binary_crossentropy: 0.3991\n",
      "Epoch 12/60\n",
      "11/11 [==============================] - 92s 8s/step - loss: 0.4262 - acc: 0.8069 - binary_crossentropy: 0.4262 - val_loss: 0.3841 - val_acc: 0.8423 - val_binary_crossentropy: 0.3841\n",
      "Epoch 13/60\n",
      "11/11 [==============================] - 93s 8s/step - loss: 0.4096 - acc: 0.8251 - binary_crossentropy: 0.4096 - val_loss: 0.3707 - val_acc: 0.8467 - val_binary_crossentropy: 0.3707\n",
      "Epoch 14/60\n",
      "11/11 [==============================] - 92s 8s/step - loss: 0.4036 - acc: 0.8287 - binary_crossentropy: 0.4036 - val_loss: 0.3587 - val_acc: 0.8521 - val_binary_crossentropy: 0.3587\n",
      "Epoch 15/60\n",
      "11/11 [==============================] - 92s 8s/step - loss: 0.3758 - acc: 0.8361 - binary_crossentropy: 0.3758 - val_loss: 0.3474 - val_acc: 0.8587 - val_binary_crossentropy: 0.3474\n",
      "Epoch 16/60\n",
      "11/11 [==============================] - 92s 8s/step - loss: 0.3682 - acc: 0.8430 - binary_crossentropy: 0.3682 - val_loss: 0.3374 - val_acc: 0.8653 - val_binary_crossentropy: 0.3374\n",
      "Epoch 17/60\n",
      "11/11 [==============================] - 92s 8s/step - loss: 0.3553 - acc: 0.8548 - binary_crossentropy: 0.3553 - val_loss: 0.3283 - val_acc: 0.8664 - val_binary_crossentropy: 0.3283\n",
      "Epoch 18/60\n",
      "11/11 [==============================] - 95s 9s/step - loss: 0.3436 - acc: 0.8540 - binary_crossentropy: 0.3436 - val_loss: 0.3195 - val_acc: 0.8697 - val_binary_crossentropy: 0.3195\n",
      "Epoch 19/60\n",
      "11/11 [==============================] - 94s 9s/step - loss: 0.3330 - acc: 0.8623 - binary_crossentropy: 0.3330 - val_loss: 0.3106 - val_acc: 0.8729 - val_binary_crossentropy: 0.3106\n",
      "Epoch 20/60\n",
      "11/11 [==============================] - 92s 8s/step - loss: 0.3206 - acc: 0.8736 - binary_crossentropy: 0.3206 - val_loss: 0.3029 - val_acc: 0.8773 - val_binary_crossentropy: 0.3029\n",
      "Epoch 21/60\n",
      "11/11 [==============================] - 92s 8s/step - loss: 0.3165 - acc: 0.8642 - binary_crossentropy: 0.3165 - val_loss: 0.2963 - val_acc: 0.8795 - val_binary_crossentropy: 0.2963\n",
      "Epoch 22/60\n",
      "11/11 [==============================] - 92s 8s/step - loss: 0.2961 - acc: 0.8837 - binary_crossentropy: 0.2961 - val_loss: 0.2896 - val_acc: 0.8817 - val_binary_crossentropy: 0.2896\n",
      "Epoch 23/60\n",
      "11/11 [==============================] - 93s 8s/step - loss: 0.2960 - acc: 0.8766 - binary_crossentropy: 0.2960 - val_loss: 0.2831 - val_acc: 0.8828 - val_binary_crossentropy: 0.2831\n",
      "Epoch 24/60\n",
      "11/11 [==============================] - 92s 8s/step - loss: 0.2906 - acc: 0.8824 - binary_crossentropy: 0.2906 - val_loss: 0.2770 - val_acc: 0.8861 - val_binary_crossentropy: 0.2770\n",
      "Epoch 25/60\n",
      "11/11 [==============================] - 92s 8s/step - loss: 0.2787 - acc: 0.8848 - binary_crossentropy: 0.2787 - val_loss: 0.2715 - val_acc: 0.8894 - val_binary_crossentropy: 0.2715\n",
      "Epoch 26/60\n",
      "11/11 [==============================] - 92s 8s/step - loss: 0.2672 - acc: 0.8915 - binary_crossentropy: 0.2672 - val_loss: 0.2662 - val_acc: 0.8905 - val_binary_crossentropy: 0.2662\n",
      "Epoch 27/60\n",
      "11/11 [==============================] - 93s 8s/step - loss: 0.2741 - acc: 0.8906 - binary_crossentropy: 0.2741 - val_loss: 0.2611 - val_acc: 0.8916 - val_binary_crossentropy: 0.2611\n",
      "Epoch 28/60\n",
      "11/11 [==============================] - 92s 8s/step - loss: 0.2564 - acc: 0.8964 - binary_crossentropy: 0.2564 - val_loss: 0.2562 - val_acc: 0.8949 - val_binary_crossentropy: 0.2562\n",
      "Epoch 29/60\n",
      "11/11 [==============================] - 92s 8s/step - loss: 0.2504 - acc: 0.9055 - binary_crossentropy: 0.2504 - val_loss: 0.2520 - val_acc: 0.8938 - val_binary_crossentropy: 0.2520\n",
      "Epoch 30/60\n",
      "11/11 [==============================] - 92s 8s/step - loss: 0.2438 - acc: 0.9063 - binary_crossentropy: 0.2438 - val_loss: 0.2475 - val_acc: 0.9003 - val_binary_crossentropy: 0.2475\n",
      "Epoch 31/60\n",
      "11/11 [==============================] - 92s 8s/step - loss: 0.2457 - acc: 0.9022 - binary_crossentropy: 0.2457 - val_loss: 0.2432 - val_acc: 0.9014 - val_binary_crossentropy: 0.2432\n",
      "Epoch 32/60\n",
      "11/11 [==============================] - 92s 8s/step - loss: 0.2392 - acc: 0.9041 - binary_crossentropy: 0.2392 - val_loss: 0.2392 - val_acc: 0.9025 - val_binary_crossentropy: 0.2392\n",
      "Epoch 33/60\n",
      "11/11 [==============================] - 94s 9s/step - loss: 0.2180 - acc: 0.9176 - binary_crossentropy: 0.2180 - val_loss: 0.2353 - val_acc: 0.9036 - val_binary_crossentropy: 0.2353\n",
      "Epoch 34/60\n",
      "11/11 [==============================] - 93s 8s/step - loss: 0.2174 - acc: 0.9185 - binary_crossentropy: 0.2174 - val_loss: 0.2320 - val_acc: 0.9036 - val_binary_crossentropy: 0.2320\n",
      "Epoch 35/60\n",
      "11/11 [==============================] - 92s 8s/step - loss: 0.2163 - acc: 0.9198 - binary_crossentropy: 0.2163 - val_loss: 0.2287 - val_acc: 0.9080 - val_binary_crossentropy: 0.2287\n",
      "Epoch 36/60\n",
      "11/11 [==============================] - 92s 8s/step - loss: 0.2201 - acc: 0.9132 - binary_crossentropy: 0.2201 - val_loss: 0.2255 - val_acc: 0.9113 - val_binary_crossentropy: 0.2255\n",
      "Epoch 37/60\n",
      "11/11 [==============================] - 92s 8s/step - loss: 0.2169 - acc: 0.9174 - binary_crossentropy: 0.2169 - val_loss: 0.2221 - val_acc: 0.9179 - val_binary_crossentropy: 0.2221\n",
      "Epoch 38/60\n",
      "11/11 [==============================] - 92s 8s/step - loss: 0.1991 - acc: 0.9267 - binary_crossentropy: 0.1991 - val_loss: 0.2191 - val_acc: 0.9189 - val_binary_crossentropy: 0.2191\n",
      "Epoch 39/60\n",
      "11/11 [==============================] - 93s 8s/step - loss: 0.1975 - acc: 0.9245 - binary_crossentropy: 0.1975 - val_loss: 0.2160 - val_acc: 0.9189 - val_binary_crossentropy: 0.2160\n",
      "Epoch 40/60\n",
      "11/11 [==============================] - 92s 8s/step - loss: 0.2057 - acc: 0.9212 - binary_crossentropy: 0.2057 - val_loss: 0.2130 - val_acc: 0.9200 - val_binary_crossentropy: 0.2130\n",
      "Epoch 41/60\n",
      "11/11 [==============================] - 93s 8s/step - loss: 0.1929 - acc: 0.9289 - binary_crossentropy: 0.1929 - val_loss: 0.2106 - val_acc: 0.9200 - val_binary_crossentropy: 0.2106\n",
      "Epoch 42/60\n",
      "11/11 [==============================] - 92s 8s/step - loss: 0.1812 - acc: 0.9399 - binary_crossentropy: 0.1812 - val_loss: 0.2080 - val_acc: 0.9222 - val_binary_crossentropy: 0.2080\n",
      "Epoch 43/60\n"
     ]
    },
    {
     "name": "stdout",
     "output_type": "stream",
     "text": [
      "11/11 [==============================] - 92s 8s/step - loss: 0.1878 - acc: 0.9262 - binary_crossentropy: 0.1878 - val_loss: 0.2055 - val_acc: 0.9244 - val_binary_crossentropy: 0.2055\n",
      "Epoch 44/60\n",
      "11/11 [==============================] - 92s 8s/step - loss: 0.1848 - acc: 0.9314 - binary_crossentropy: 0.1848 - val_loss: 0.2029 - val_acc: 0.9233 - val_binary_crossentropy: 0.2029\n",
      "Epoch 45/60\n",
      "11/11 [==============================] - 93s 8s/step - loss: 0.1825 - acc: 0.9295 - binary_crossentropy: 0.1825 - val_loss: 0.2006 - val_acc: 0.9244 - val_binary_crossentropy: 0.2006\n",
      "Epoch 46/60\n",
      "11/11 [==============================] - 92s 8s/step - loss: 0.1781 - acc: 0.9292 - binary_crossentropy: 0.1781 - val_loss: 0.1987 - val_acc: 0.9233 - val_binary_crossentropy: 0.1987\n",
      "Epoch 47/60\n",
      "11/11 [==============================] - 92s 8s/step - loss: 0.1687 - acc: 0.9372 - binary_crossentropy: 0.1687 - val_loss: 0.1965 - val_acc: 0.9255 - val_binary_crossentropy: 0.1965\n",
      "Epoch 48/60\n",
      "11/11 [==============================] - 92s 8s/step - loss: 0.1725 - acc: 0.9358 - binary_crossentropy: 0.1725 - val_loss: 0.1945 - val_acc: 0.9244 - val_binary_crossentropy: 0.1945\n",
      "Epoch 49/60\n",
      "11/11 [==============================] - 92s 8s/step - loss: 0.1777 - acc: 0.9314 - binary_crossentropy: 0.1777 - val_loss: 0.1927 - val_acc: 0.9266 - val_binary_crossentropy: 0.1927\n",
      "Epoch 50/60\n",
      "11/11 [==============================] - 92s 8s/step - loss: 0.1543 - acc: 0.9386 - binary_crossentropy: 0.1543 - val_loss: 0.1910 - val_acc: 0.9277 - val_binary_crossentropy: 0.1910\n",
      "Epoch 51/60\n",
      "11/11 [==============================] - 92s 8s/step - loss: 0.1648 - acc: 0.9380 - binary_crossentropy: 0.1648 - val_loss: 0.1891 - val_acc: 0.9266 - val_binary_crossentropy: 0.1891\n",
      "Epoch 52/60\n",
      "11/11 [==============================] - 92s 8s/step - loss: 0.1500 - acc: 0.9446 - binary_crossentropy: 0.1500 - val_loss: 0.1874 - val_acc: 0.9277 - val_binary_crossentropy: 0.1874\n",
      "Epoch 53/60\n",
      "11/11 [==============================] - 91s 8s/step - loss: 0.1637 - acc: 0.9397 - binary_crossentropy: 0.1637 - val_loss: 0.1857 - val_acc: 0.9288 - val_binary_crossentropy: 0.1857\n",
      "Epoch 54/60\n",
      "11/11 [==============================] - 92s 8s/step - loss: 0.1544 - acc: 0.9416 - binary_crossentropy: 0.1544 - val_loss: 0.1838 - val_acc: 0.9310 - val_binary_crossentropy: 0.1838\n",
      "Epoch 55/60\n",
      "11/11 [==============================] - 92s 8s/step - loss: 0.1505 - acc: 0.9460 - binary_crossentropy: 0.1505 - val_loss: 0.1819 - val_acc: 0.9321 - val_binary_crossentropy: 0.1819\n",
      "Epoch 56/60\n",
      "11/11 [==============================] - 92s 8s/step - loss: 0.1462 - acc: 0.9485 - binary_crossentropy: 0.1462 - val_loss: 0.1802 - val_acc: 0.9321 - val_binary_crossentropy: 0.1802\n",
      "Epoch 57/60\n",
      "11/11 [==============================] - 91s 8s/step - loss: 0.1493 - acc: 0.9444 - binary_crossentropy: 0.1493 - val_loss: 0.1785 - val_acc: 0.9332 - val_binary_crossentropy: 0.1785\n",
      "Epoch 58/60\n",
      "11/11 [==============================] - 92s 8s/step - loss: 0.1448 - acc: 0.9482 - binary_crossentropy: 0.1448 - val_loss: 0.1766 - val_acc: 0.9354 - val_binary_crossentropy: 0.1766\n",
      "Epoch 59/60\n",
      "11/11 [==============================] - 91s 8s/step - loss: 0.1323 - acc: 0.9540 - binary_crossentropy: 0.1323 - val_loss: 0.1751 - val_acc: 0.9354 - val_binary_crossentropy: 0.1751\n",
      "Epoch 60/60\n",
      "11/11 [==============================] - 92s 8s/step - loss: 0.1352 - acc: 0.9493 - binary_crossentropy: 0.1352 - val_loss: 0.1739 - val_acc: 0.9365 - val_binary_crossentropy: 0.1739\n"
     ]
    }
   ],
   "source": [
    "model_mn.compile(optimizer=optimizers.adam(lr=0.0001), loss='binary_crossentropy', metrics =['accuracy','binary_crossentropy'])\n",
    "history_model_mn = model_mn.fit_generator(train_aug, steps_per_epoch=11,\n",
    "                                epochs=60, validation_data=(validation_ims,val_labels),\n",
    "                                verbose=1,\n",
    "                                callbacks=[early_ae_hog])"
   ]
  },
  {
   "cell_type": "code",
   "execution_count": 34,
   "metadata": {},
   "outputs": [
    {
     "data": {
      "image/png": "[encoded data removed]",
      "text/plain": [
       "<Figure size 504x360 with 1 Axes>"
      ]
     },
     "metadata": {},
     "output_type": "display_data"
    },
    {
     "data": {
      "image/png": "[encoded data removed]",
      "text/plain": [
       "<Figure size 504x360 with 1 Axes>"
      ]
     },
     "metadata": {},
     "output_type": "display_data"
    }
   ],
   "source": [
    "utils.model_performance_vis(history_model_mn,'Loss','loss')\n",
    "utils.model_performance_vis1(history_model_mn,'Accuracy','acc')"
   ]
  },
  {
   "cell_type": "code",
   "execution_count": 35,
   "metadata": {},
   "outputs": [
    {
     "name": "stderr",
     "output_type": "stream",
     "text": [
      "MEng_Final_Utils.ipynb:25: RuntimeWarning: invalid value encountered in double_scalars\n",
      "  \"\\n\",\n",
      "MEng_Final_Utils.ipynb:42: RuntimeWarning: Mean of empty slice\n",
      "  \"\\n\",\n",
      "MEng_Final_Utils.ipynb:43: RuntimeWarning: Mean of empty slice\n",
      "  \"# Bag of Words using KMeans\\n\",\n"
     ]
    },
    {
     "data": {
      "image/png": "[encoded data removed]",
      "text/plain": [
       "<Figure size 504x360 with 1 Axes>"
      ]
     },
     "metadata": {},
     "output_type": "display_data"
    },
    {
     "data": {
      "image/png": "[encoded data removed]",
      "text/plain": [
       "<Figure size 504x360 with 1 Axes>"
      ]
     },
     "metadata": {},
     "output_type": "display_data"
    }
   ],
   "source": [
    "predicted_values_mn = utils.predict_and_threshold(model_mn,testing_ims,test_labels)"
   ]
  },
  {
   "cell_type": "code",
   "execution_count": 36,
   "metadata": {},
   "outputs": [
    {
     "name": "stdout",
     "output_type": "stream",
     "text": [
      "83/83 [==============================] - 4s 53ms/step\n"
     ]
    },
    {
     "data": {
      "text/plain": [
       "[0.17391994721200094, 0.9364731850394283, 0.17391994721200094]"
      ]
     },
     "execution_count": 36,
     "metadata": {},
     "output_type": "execute_result"
    }
   ],
   "source": [
    "model_mn.evaluate(testing_ims,test_labels)"
   ]
  },
  {
   "cell_type": "code",
   "execution_count": 104,
   "metadata": {},
   "outputs": [
    {
     "name": "stdout",
     "output_type": "stream",
     "text": [
      "     TPR       TNR         Avg.\n",
      "[0.90644885 0.92179904 0.91412395 0.91894852 0.75356406 0.81072842]\n"
     ]
    }
   ],
   "source": [
    "predicted_labels = utils.threshold_labels(predicted_values_mn,0.22)\n",
    "print('     TPR       TNR         Avg.')\n",
    "print(utils.model_evaluation(test_labels,predicted_labels)[0])"
   ]
  },
  {
   "cell_type": "code",
   "execution_count": 38,
   "metadata": {},
   "outputs": [],
   "source": [
    "t1 = time.perf_counter()\n",
    "predicitions = model_mn.predict(testing_ims)\n",
    "t2 = time.perf_counter()"
   ]
  },
  {
   "cell_type": "code",
   "execution_count": 28,
   "metadata": {},
   "outputs": [],
   "source": [
    "runtime = (t2-t1)/len(testing_images)\n",
    "print(runtime)"
   ]
  },
  {
   "cell_type": "markdown",
   "metadata": {},
   "source": [
    "## AUC ROC and PR"
   ]
  },
  {
   "cell_type": "code",
   "execution_count": 125,
   "metadata": {},
   "outputs": [
    {
     "data": {
      "image/png": "[encoded data removed]",
      "text/plain": [
       "<Figure size 504x360 with 1 Axes>"
      ]
     },
     "metadata": {},
     "output_type": "display_data"
    }
   ],
   "source": [
    "utils.get_roc_curve(predicted_values_mn, test_labels)"
   ]
  },
  {
   "cell_type": "code",
   "execution_count": 126,
   "metadata": {},
   "outputs": [
    {
     "data": {
      "image/png": "[encoded data removed]",
      "text/plain": [
       "<Figure size 504x360 with 1 Axes>"
      ]
     },
     "metadata": {},
     "output_type": "display_data"
    }
   ],
   "source": [
    "utils.get_precision_recall_curve(predicted_values_mn, test_labels)"
   ]
  },
  {
   "cell_type": "code",
   "execution_count": 73,
   "metadata": {},
   "outputs": [],
   "source": [
    "model_mn.save('MobileNetV1_Trained.h5')"
   ]
  }
 ],
 "metadata": {
  "kernelspec": {
   "display_name": "Python 3",
   "language": "python",
   "name": "python3"
  },
  "language_info": {
   "codemirror_mode": {
    "name": "ipython",
    "version": 3
   },
   "file_extension": ".py",
   "mimetype": "text/x-python",
   "name": "python",
   "nbconvert_exporter": "python",
   "pygments_lexer": "ipython3",
   "version": "3.6.8"
  }
 },
 "nbformat": 4,
 "nbformat_minor": 2
}
